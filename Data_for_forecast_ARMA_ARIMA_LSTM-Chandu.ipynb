{
 "cells": [
  {
   "cell_type": "code",
   "execution_count": 2,
   "metadata": {},
   "outputs": [],
   "source": [
    "import pandas as pd\n",
    "import numpy as np\n",
    "import matplotlib.pyplot as plt\n",
    "%matplotlib inline "
   ]
  },
  {
   "cell_type": "code",
   "execution_count": 22,
   "metadata": {},
   "outputs": [],
   "source": [
    "data = pd.read_csv(\"Harpended_3years.csv\")"
   ]
  },
  {
   "cell_type": "code",
   "execution_count": 23,
   "metadata": {},
   "outputs": [
    {
     "data": {
      "text/html": [
       "<div>\n",
       "<style scoped>\n",
       "    .dataframe tbody tr th:only-of-type {\n",
       "        vertical-align: middle;\n",
       "    }\n",
       "\n",
       "    .dataframe tbody tr th {\n",
       "        vertical-align: top;\n",
       "    }\n",
       "\n",
       "    .dataframe thead th {\n",
       "        text-align: right;\n",
       "    }\n",
       "</style>\n",
       "<table border=\"1\" class=\"dataframe\">\n",
       "  <thead>\n",
       "    <tr style=\"text-align: right;\">\n",
       "      <th></th>\n",
       "      <th>directory_id</th>\n",
       "      <th>date_time</th>\n",
       "      <th>site_id</th>\n",
       "      <th>channel</th>\n",
       "      <th>archive</th>\n",
       "      <th>value</th>\n",
       "      <th>max</th>\n",
       "      <th>min</th>\n",
       "      <th>mean</th>\n",
       "      <th>standard_deviation</th>\n",
       "    </tr>\n",
       "  </thead>\n",
       "  <tbody>\n",
       "    <tr>\n",
       "      <th>0</th>\n",
       "      <td>1</td>\n",
       "      <td>2020-09-01 00:00:00</td>\n",
       "      <td>35131</td>\n",
       "      <td>2</td>\n",
       "      <td>0</td>\n",
       "      <td>NaN</td>\n",
       "      <td>24.01584</td>\n",
       "      <td>22.834732</td>\n",
       "      <td>23.228435</td>\n",
       "      <td>0.393702</td>\n",
       "    </tr>\n",
       "    <tr>\n",
       "      <th>1</th>\n",
       "      <td>1</td>\n",
       "      <td>2020-09-01 00:10:00</td>\n",
       "      <td>35131</td>\n",
       "      <td>2</td>\n",
       "      <td>0</td>\n",
       "      <td>NaN</td>\n",
       "      <td>24.01584</td>\n",
       "      <td>22.834732</td>\n",
       "      <td>23.228435</td>\n",
       "      <td>0.393702</td>\n",
       "    </tr>\n",
       "  </tbody>\n",
       "</table>\n",
       "</div>"
      ],
      "text/plain": [
       "   directory_id            date_time  site_id  channel  archive  value  \\\n",
       "0             1  2020-09-01 00:00:00    35131        2        0    NaN   \n",
       "1             1  2020-09-01 00:10:00    35131        2        0    NaN   \n",
       "\n",
       "        max        min       mean  standard_deviation  \n",
       "0  24.01584  22.834732  23.228435            0.393702  \n",
       "1  24.01584  22.834732  23.228435            0.393702  "
      ]
     },
     "execution_count": 23,
     "metadata": {},
     "output_type": "execute_result"
    }
   ],
   "source": [
    "data.head(2)"
   ]
  },
  {
   "cell_type": "code",
   "execution_count": 24,
   "metadata": {},
   "outputs": [
    {
     "name": "stdout",
     "output_type": "stream",
     "text": [
      "<class 'pandas.core.frame.DataFrame'>\n",
      "RangeIndex: 216303 entries, 0 to 216302\n",
      "Data columns (total 10 columns):\n",
      " #   Column              Non-Null Count   Dtype  \n",
      "---  ------              --------------   -----  \n",
      " 0   directory_id        216303 non-null  int64  \n",
      " 1   date_time           216303 non-null  object \n",
      " 2   site_id             216303 non-null  int64  \n",
      " 3   channel             216303 non-null  int64  \n",
      " 4   archive             216303 non-null  int64  \n",
      " 5   value               0 non-null       float64\n",
      " 6   max                 216280 non-null  float64\n",
      " 7   min                 216280 non-null  float64\n",
      " 8   mean                216280 non-null  float64\n",
      " 9   standard_deviation  216280 non-null  float64\n",
      "dtypes: float64(5), int64(4), object(1)\n",
      "memory usage: 16.5+ MB\n"
     ]
    }
   ],
   "source": [
    "data.info()"
   ]
  },
  {
   "cell_type": "code",
   "execution_count": 25,
   "metadata": {},
   "outputs": [],
   "source": [
    "data[\"date_time\"] = pd.to_datetime(data[\"date_time\"])"
   ]
  },
  {
   "cell_type": "code",
   "execution_count": 26,
   "metadata": {},
   "outputs": [
    {
     "data": {
      "text/html": [
       "<div>\n",
       "<style scoped>\n",
       "    .dataframe tbody tr th:only-of-type {\n",
       "        vertical-align: middle;\n",
       "    }\n",
       "\n",
       "    .dataframe tbody tr th {\n",
       "        vertical-align: top;\n",
       "    }\n",
       "\n",
       "    .dataframe thead th {\n",
       "        text-align: right;\n",
       "    }\n",
       "</style>\n",
       "<table border=\"1\" class=\"dataframe\">\n",
       "  <thead>\n",
       "    <tr style=\"text-align: right;\">\n",
       "      <th></th>\n",
       "      <th>directory_id</th>\n",
       "      <th>date_time</th>\n",
       "      <th>site_id</th>\n",
       "      <th>channel</th>\n",
       "      <th>archive</th>\n",
       "      <th>value</th>\n",
       "      <th>max</th>\n",
       "      <th>min</th>\n",
       "      <th>mean</th>\n",
       "      <th>standard_deviation</th>\n",
       "    </tr>\n",
       "  </thead>\n",
       "  <tbody>\n",
       "    <tr>\n",
       "      <th>0</th>\n",
       "      <td>1</td>\n",
       "      <td>2020-09-01 00:00:00</td>\n",
       "      <td>35131</td>\n",
       "      <td>2</td>\n",
       "      <td>0</td>\n",
       "      <td>NaN</td>\n",
       "      <td>24.01584</td>\n",
       "      <td>22.834732</td>\n",
       "      <td>23.228435</td>\n",
       "      <td>0.393702</td>\n",
       "    </tr>\n",
       "    <tr>\n",
       "      <th>1</th>\n",
       "      <td>1</td>\n",
       "      <td>2020-09-01 00:10:00</td>\n",
       "      <td>35131</td>\n",
       "      <td>2</td>\n",
       "      <td>0</td>\n",
       "      <td>NaN</td>\n",
       "      <td>24.01584</td>\n",
       "      <td>22.834732</td>\n",
       "      <td>23.228435</td>\n",
       "      <td>0.393702</td>\n",
       "    </tr>\n",
       "    <tr>\n",
       "      <th>2</th>\n",
       "      <td>1</td>\n",
       "      <td>2020-09-01 00:20:00</td>\n",
       "      <td>35131</td>\n",
       "      <td>2</td>\n",
       "      <td>0</td>\n",
       "      <td>NaN</td>\n",
       "      <td>24.01584</td>\n",
       "      <td>22.834732</td>\n",
       "      <td>23.228435</td>\n",
       "      <td>0.393702</td>\n",
       "    </tr>\n",
       "    <tr>\n",
       "      <th>3</th>\n",
       "      <td>1</td>\n",
       "      <td>2020-09-01 00:30:00</td>\n",
       "      <td>35131</td>\n",
       "      <td>2</td>\n",
       "      <td>0</td>\n",
       "      <td>NaN</td>\n",
       "      <td>24.01584</td>\n",
       "      <td>22.834732</td>\n",
       "      <td>23.228435</td>\n",
       "      <td>0.393702</td>\n",
       "    </tr>\n",
       "    <tr>\n",
       "      <th>4</th>\n",
       "      <td>1</td>\n",
       "      <td>2020-09-01 00:40:00</td>\n",
       "      <td>35131</td>\n",
       "      <td>2</td>\n",
       "      <td>0</td>\n",
       "      <td>NaN</td>\n",
       "      <td>24.01584</td>\n",
       "      <td>22.441031</td>\n",
       "      <td>23.228435</td>\n",
       "      <td>0.393702</td>\n",
       "    </tr>\n",
       "  </tbody>\n",
       "</table>\n",
       "</div>"
      ],
      "text/plain": [
       "   directory_id           date_time  site_id  channel  archive  value  \\\n",
       "0             1 2020-09-01 00:00:00    35131        2        0    NaN   \n",
       "1             1 2020-09-01 00:10:00    35131        2        0    NaN   \n",
       "2             1 2020-09-01 00:20:00    35131        2        0    NaN   \n",
       "3             1 2020-09-01 00:30:00    35131        2        0    NaN   \n",
       "4             1 2020-09-01 00:40:00    35131        2        0    NaN   \n",
       "\n",
       "        max        min       mean  standard_deviation  \n",
       "0  24.01584  22.834732  23.228435            0.393702  \n",
       "1  24.01584  22.834732  23.228435            0.393702  \n",
       "2  24.01584  22.834732  23.228435            0.393702  \n",
       "3  24.01584  22.834732  23.228435            0.393702  \n",
       "4  24.01584  22.441031  23.228435            0.393702  "
      ]
     },
     "execution_count": 26,
     "metadata": {},
     "output_type": "execute_result"
    }
   ],
   "source": [
    "data.head()"
   ]
  },
  {
   "cell_type": "code",
   "execution_count": 27,
   "metadata": {},
   "outputs": [
    {
     "data": {
      "text/plain": [
       "(216303, 10)"
      ]
     },
     "execution_count": 27,
     "metadata": {},
     "output_type": "execute_result"
    }
   ],
   "source": [
    "data.shape"
   ]
  },
  {
   "cell_type": "code",
   "execution_count": 28,
   "metadata": {},
   "outputs": [
    {
     "name": "stdout",
     "output_type": "stream",
     "text": [
      "<class 'pandas.core.frame.DataFrame'>\n",
      "RangeIndex: 216303 entries, 0 to 216302\n",
      "Data columns (total 10 columns):\n",
      " #   Column              Non-Null Count   Dtype         \n",
      "---  ------              --------------   -----         \n",
      " 0   directory_id        216303 non-null  int64         \n",
      " 1   date_time           216303 non-null  datetime64[ns]\n",
      " 2   site_id             216303 non-null  int64         \n",
      " 3   channel             216303 non-null  int64         \n",
      " 4   archive             216303 non-null  int64         \n",
      " 5   value               0 non-null       float64       \n",
      " 6   max                 216280 non-null  float64       \n",
      " 7   min                 216280 non-null  float64       \n",
      " 8   mean                216280 non-null  float64       \n",
      " 9   standard_deviation  216280 non-null  float64       \n",
      "dtypes: datetime64[ns](1), float64(5), int64(4)\n",
      "memory usage: 16.5 MB\n"
     ]
    }
   ],
   "source": [
    "data.info()"
   ]
  },
  {
   "cell_type": "code",
   "execution_count": 29,
   "metadata": {},
   "outputs": [
    {
     "data": {
      "text/plain": [
       "directory_id               0\n",
       "date_time                  0\n",
       "site_id                    0\n",
       "channel                    0\n",
       "archive                    0\n",
       "value                 216303\n",
       "max                       23\n",
       "min                       23\n",
       "mean                      23\n",
       "standard_deviation        23\n",
       "dtype: int64"
      ]
     },
     "execution_count": 29,
     "metadata": {},
     "output_type": "execute_result"
    }
   ],
   "source": [
    "data.isna().sum()"
   ]
  },
  {
   "cell_type": "code",
   "execution_count": 30,
   "metadata": {},
   "outputs": [],
   "source": [
    "data = data.dropna(subset=['mean'])"
   ]
  },
  {
   "cell_type": "code",
   "execution_count": 31,
   "metadata": {},
   "outputs": [],
   "source": [
    "data[\"date_time\"] = pd.to_datetime(data[\"date_time\"])\n",
    "data = data.sort_values(by='date_time')\n",
    "data.reset_index(drop=True, inplace=True)"
   ]
  },
  {
   "cell_type": "code",
   "execution_count": 32,
   "metadata": {},
   "outputs": [
    {
     "data": {
      "text/html": [
       "<div>\n",
       "<style scoped>\n",
       "    .dataframe tbody tr th:only-of-type {\n",
       "        vertical-align: middle;\n",
       "    }\n",
       "\n",
       "    .dataframe tbody tr th {\n",
       "        vertical-align: top;\n",
       "    }\n",
       "\n",
       "    .dataframe thead th {\n",
       "        text-align: right;\n",
       "    }\n",
       "</style>\n",
       "<table border=\"1\" class=\"dataframe\">\n",
       "  <thead>\n",
       "    <tr style=\"text-align: right;\">\n",
       "      <th></th>\n",
       "      <th>directory_id</th>\n",
       "      <th>date_time</th>\n",
       "      <th>site_id</th>\n",
       "      <th>channel</th>\n",
       "      <th>archive</th>\n",
       "      <th>value</th>\n",
       "      <th>max</th>\n",
       "      <th>min</th>\n",
       "      <th>mean</th>\n",
       "      <th>standard_deviation</th>\n",
       "    </tr>\n",
       "  </thead>\n",
       "  <tbody>\n",
       "    <tr>\n",
       "      <th>0</th>\n",
       "      <td>1</td>\n",
       "      <td>2020-09-01 00:00:00</td>\n",
       "      <td>35131</td>\n",
       "      <td>2</td>\n",
       "      <td>0</td>\n",
       "      <td>NaN</td>\n",
       "      <td>24.01584</td>\n",
       "      <td>22.834732</td>\n",
       "      <td>23.228435</td>\n",
       "      <td>0.393702</td>\n",
       "    </tr>\n",
       "    <tr>\n",
       "      <th>1</th>\n",
       "      <td>1</td>\n",
       "      <td>2020-09-01 00:05:00</td>\n",
       "      <td>35131</td>\n",
       "      <td>2</td>\n",
       "      <td>0</td>\n",
       "      <td>NaN</td>\n",
       "      <td>24.01584</td>\n",
       "      <td>22.834732</td>\n",
       "      <td>23.228435</td>\n",
       "      <td>0.393702</td>\n",
       "    </tr>\n",
       "    <tr>\n",
       "      <th>2</th>\n",
       "      <td>1</td>\n",
       "      <td>2020-09-01 00:10:00</td>\n",
       "      <td>35131</td>\n",
       "      <td>2</td>\n",
       "      <td>0</td>\n",
       "      <td>NaN</td>\n",
       "      <td>24.01584</td>\n",
       "      <td>22.834732</td>\n",
       "      <td>23.228435</td>\n",
       "      <td>0.393702</td>\n",
       "    </tr>\n",
       "    <tr>\n",
       "      <th>3</th>\n",
       "      <td>1</td>\n",
       "      <td>2020-09-01 00:15:00</td>\n",
       "      <td>35131</td>\n",
       "      <td>2</td>\n",
       "      <td>0</td>\n",
       "      <td>NaN</td>\n",
       "      <td>24.01584</td>\n",
       "      <td>22.834732</td>\n",
       "      <td>23.228435</td>\n",
       "      <td>0.393702</td>\n",
       "    </tr>\n",
       "    <tr>\n",
       "      <th>4</th>\n",
       "      <td>1</td>\n",
       "      <td>2020-09-01 00:20:00</td>\n",
       "      <td>35131</td>\n",
       "      <td>2</td>\n",
       "      <td>0</td>\n",
       "      <td>NaN</td>\n",
       "      <td>24.01584</td>\n",
       "      <td>22.834732</td>\n",
       "      <td>23.228435</td>\n",
       "      <td>0.393702</td>\n",
       "    </tr>\n",
       "  </tbody>\n",
       "</table>\n",
       "</div>"
      ],
      "text/plain": [
       "   directory_id           date_time  site_id  channel  archive  value  \\\n",
       "0             1 2020-09-01 00:00:00    35131        2        0    NaN   \n",
       "1             1 2020-09-01 00:05:00    35131        2        0    NaN   \n",
       "2             1 2020-09-01 00:10:00    35131        2        0    NaN   \n",
       "3             1 2020-09-01 00:15:00    35131        2        0    NaN   \n",
       "4             1 2020-09-01 00:20:00    35131        2        0    NaN   \n",
       "\n",
       "        max        min       mean  standard_deviation  \n",
       "0  24.01584  22.834732  23.228435            0.393702  \n",
       "1  24.01584  22.834732  23.228435            0.393702  \n",
       "2  24.01584  22.834732  23.228435            0.393702  \n",
       "3  24.01584  22.834732  23.228435            0.393702  \n",
       "4  24.01584  22.834732  23.228435            0.393702  "
      ]
     },
     "execution_count": 32,
     "metadata": {},
     "output_type": "execute_result"
    }
   ],
   "source": [
    "data.head()"
   ]
  },
  {
   "cell_type": "code",
   "execution_count": 33,
   "metadata": {},
   "outputs": [
    {
     "data": {
      "text/html": [
       "<div>\n",
       "<style scoped>\n",
       "    .dataframe tbody tr th:only-of-type {\n",
       "        vertical-align: middle;\n",
       "    }\n",
       "\n",
       "    .dataframe tbody tr th {\n",
       "        vertical-align: top;\n",
       "    }\n",
       "\n",
       "    .dataframe thead th {\n",
       "        text-align: right;\n",
       "    }\n",
       "</style>\n",
       "<table border=\"1\" class=\"dataframe\">\n",
       "  <thead>\n",
       "    <tr style=\"text-align: right;\">\n",
       "      <th></th>\n",
       "      <th>directory_id</th>\n",
       "      <th>date_time</th>\n",
       "      <th>site_id</th>\n",
       "      <th>channel</th>\n",
       "      <th>archive</th>\n",
       "      <th>value</th>\n",
       "      <th>max</th>\n",
       "      <th>min</th>\n",
       "      <th>mean</th>\n",
       "      <th>standard_deviation</th>\n",
       "    </tr>\n",
       "  </thead>\n",
       "  <tbody>\n",
       "    <tr>\n",
       "      <th>216275</th>\n",
       "      <td>1</td>\n",
       "      <td>2022-09-22 00:50:00</td>\n",
       "      <td>35131</td>\n",
       "      <td>2</td>\n",
       "      <td>0</td>\n",
       "      <td>NaN</td>\n",
       "      <td>24.803244</td>\n",
       "      <td>24.01584</td>\n",
       "      <td>24.409542</td>\n",
       "      <td>0.000000</td>\n",
       "    </tr>\n",
       "    <tr>\n",
       "      <th>216276</th>\n",
       "      <td>1</td>\n",
       "      <td>2022-09-22 00:55:00</td>\n",
       "      <td>35131</td>\n",
       "      <td>2</td>\n",
       "      <td>0</td>\n",
       "      <td>NaN</td>\n",
       "      <td>24.803244</td>\n",
       "      <td>24.01584</td>\n",
       "      <td>24.015840</td>\n",
       "      <td>0.393702</td>\n",
       "    </tr>\n",
       "    <tr>\n",
       "      <th>216277</th>\n",
       "      <td>1</td>\n",
       "      <td>2022-09-22 01:00:00</td>\n",
       "      <td>35131</td>\n",
       "      <td>2</td>\n",
       "      <td>0</td>\n",
       "      <td>NaN</td>\n",
       "      <td>25.196947</td>\n",
       "      <td>24.01584</td>\n",
       "      <td>24.409542</td>\n",
       "      <td>0.000000</td>\n",
       "    </tr>\n",
       "    <tr>\n",
       "      <th>216278</th>\n",
       "      <td>1</td>\n",
       "      <td>2022-09-22 01:05:00</td>\n",
       "      <td>35131</td>\n",
       "      <td>2</td>\n",
       "      <td>0</td>\n",
       "      <td>NaN</td>\n",
       "      <td>25.196947</td>\n",
       "      <td>24.01584</td>\n",
       "      <td>24.409542</td>\n",
       "      <td>0.000000</td>\n",
       "    </tr>\n",
       "    <tr>\n",
       "      <th>216279</th>\n",
       "      <td>1</td>\n",
       "      <td>2022-09-22 01:10:00</td>\n",
       "      <td>35131</td>\n",
       "      <td>2</td>\n",
       "      <td>0</td>\n",
       "      <td>NaN</td>\n",
       "      <td>25.196947</td>\n",
       "      <td>24.01584</td>\n",
       "      <td>24.409542</td>\n",
       "      <td>0.000000</td>\n",
       "    </tr>\n",
       "  </tbody>\n",
       "</table>\n",
       "</div>"
      ],
      "text/plain": [
       "        directory_id           date_time  site_id  channel  archive  value  \\\n",
       "216275             1 2022-09-22 00:50:00    35131        2        0    NaN   \n",
       "216276             1 2022-09-22 00:55:00    35131        2        0    NaN   \n",
       "216277             1 2022-09-22 01:00:00    35131        2        0    NaN   \n",
       "216278             1 2022-09-22 01:05:00    35131        2        0    NaN   \n",
       "216279             1 2022-09-22 01:10:00    35131        2        0    NaN   \n",
       "\n",
       "              max       min       mean  standard_deviation  \n",
       "216275  24.803244  24.01584  24.409542            0.000000  \n",
       "216276  24.803244  24.01584  24.015840            0.393702  \n",
       "216277  25.196947  24.01584  24.409542            0.000000  \n",
       "216278  25.196947  24.01584  24.409542            0.000000  \n",
       "216279  25.196947  24.01584  24.409542            0.000000  "
      ]
     },
     "execution_count": 33,
     "metadata": {},
     "output_type": "execute_result"
    }
   ],
   "source": [
    "data.tail()"
   ]
  },
  {
   "cell_type": "code",
   "execution_count": 34,
   "metadata": {},
   "outputs": [],
   "source": [
    "data = data[['date_time','mean']]"
   ]
  },
  {
   "cell_type": "code",
   "execution_count": 35,
   "metadata": {},
   "outputs": [],
   "source": [
    "data.set_index('date_time',inplace=True)"
   ]
  },
  {
   "cell_type": "code",
   "execution_count": 36,
   "metadata": {},
   "outputs": [
    {
     "data": {
      "text/html": [
       "<div>\n",
       "<style scoped>\n",
       "    .dataframe tbody tr th:only-of-type {\n",
       "        vertical-align: middle;\n",
       "    }\n",
       "\n",
       "    .dataframe tbody tr th {\n",
       "        vertical-align: top;\n",
       "    }\n",
       "\n",
       "    .dataframe thead th {\n",
       "        text-align: right;\n",
       "    }\n",
       "</style>\n",
       "<table border=\"1\" class=\"dataframe\">\n",
       "  <thead>\n",
       "    <tr style=\"text-align: right;\">\n",
       "      <th></th>\n",
       "      <th>mean</th>\n",
       "    </tr>\n",
       "    <tr>\n",
       "      <th>date_time</th>\n",
       "      <th></th>\n",
       "    </tr>\n",
       "  </thead>\n",
       "  <tbody>\n",
       "    <tr>\n",
       "      <th>2020-09-01 00:00:00</th>\n",
       "      <td>23.228435</td>\n",
       "    </tr>\n",
       "    <tr>\n",
       "      <th>2020-09-01 00:05:00</th>\n",
       "      <td>23.228435</td>\n",
       "    </tr>\n",
       "    <tr>\n",
       "      <th>2020-09-01 00:10:00</th>\n",
       "      <td>23.228435</td>\n",
       "    </tr>\n",
       "    <tr>\n",
       "      <th>2020-09-01 00:15:00</th>\n",
       "      <td>23.228435</td>\n",
       "    </tr>\n",
       "    <tr>\n",
       "      <th>2020-09-01 00:20:00</th>\n",
       "      <td>23.228435</td>\n",
       "    </tr>\n",
       "    <tr>\n",
       "      <th>...</th>\n",
       "      <td>...</td>\n",
       "    </tr>\n",
       "    <tr>\n",
       "      <th>2022-09-22 00:50:00</th>\n",
       "      <td>24.409542</td>\n",
       "    </tr>\n",
       "    <tr>\n",
       "      <th>2022-09-22 00:55:00</th>\n",
       "      <td>24.015840</td>\n",
       "    </tr>\n",
       "    <tr>\n",
       "      <th>2022-09-22 01:00:00</th>\n",
       "      <td>24.409542</td>\n",
       "    </tr>\n",
       "    <tr>\n",
       "      <th>2022-09-22 01:05:00</th>\n",
       "      <td>24.409542</td>\n",
       "    </tr>\n",
       "    <tr>\n",
       "      <th>2022-09-22 01:10:00</th>\n",
       "      <td>24.409542</td>\n",
       "    </tr>\n",
       "  </tbody>\n",
       "</table>\n",
       "<p>216280 rows × 1 columns</p>\n",
       "</div>"
      ],
      "text/plain": [
       "                          mean\n",
       "date_time                     \n",
       "2020-09-01 00:00:00  23.228435\n",
       "2020-09-01 00:05:00  23.228435\n",
       "2020-09-01 00:10:00  23.228435\n",
       "2020-09-01 00:15:00  23.228435\n",
       "2020-09-01 00:20:00  23.228435\n",
       "...                        ...\n",
       "2022-09-22 00:50:00  24.409542\n",
       "2022-09-22 00:55:00  24.015840\n",
       "2022-09-22 01:00:00  24.409542\n",
       "2022-09-22 01:05:00  24.409542\n",
       "2022-09-22 01:10:00  24.409542\n",
       "\n",
       "[216280 rows x 1 columns]"
      ]
     },
     "execution_count": 36,
     "metadata": {},
     "output_type": "execute_result"
    }
   ],
   "source": [
    "data"
   ]
  },
  {
   "cell_type": "code",
   "execution_count": 37,
   "metadata": {},
   "outputs": [
    {
     "data": {
      "text/html": [
       "<div>\n",
       "<style scoped>\n",
       "    .dataframe tbody tr th:only-of-type {\n",
       "        vertical-align: middle;\n",
       "    }\n",
       "\n",
       "    .dataframe tbody tr th {\n",
       "        vertical-align: top;\n",
       "    }\n",
       "\n",
       "    .dataframe thead th {\n",
       "        text-align: right;\n",
       "    }\n",
       "</style>\n",
       "<table border=\"1\" class=\"dataframe\">\n",
       "  <thead>\n",
       "    <tr style=\"text-align: right;\">\n",
       "      <th></th>\n",
       "      <th>mean</th>\n",
       "    </tr>\n",
       "  </thead>\n",
       "  <tbody>\n",
       "    <tr>\n",
       "      <th>count</th>\n",
       "      <td>216280.000000</td>\n",
       "    </tr>\n",
       "    <tr>\n",
       "      <th>mean</th>\n",
       "      <td>27.576077</td>\n",
       "    </tr>\n",
       "    <tr>\n",
       "      <th>std</th>\n",
       "      <td>6.098809</td>\n",
       "    </tr>\n",
       "    <tr>\n",
       "      <th>min</th>\n",
       "      <td>19.685114</td>\n",
       "    </tr>\n",
       "    <tr>\n",
       "      <th>25%</th>\n",
       "      <td>24.015840</td>\n",
       "    </tr>\n",
       "    <tr>\n",
       "      <th>50%</th>\n",
       "      <td>24.409542</td>\n",
       "    </tr>\n",
       "    <tr>\n",
       "      <th>75%</th>\n",
       "      <td>29.527672</td>\n",
       "    </tr>\n",
       "    <tr>\n",
       "      <th>max</th>\n",
       "      <td>49.606487</td>\n",
       "    </tr>\n",
       "  </tbody>\n",
       "</table>\n",
       "</div>"
      ],
      "text/plain": [
       "                mean\n",
       "count  216280.000000\n",
       "mean       27.576077\n",
       "std         6.098809\n",
       "min        19.685114\n",
       "25%        24.015840\n",
       "50%        24.409542\n",
       "75%        29.527672\n",
       "max        49.606487"
      ]
     },
     "execution_count": 37,
     "metadata": {},
     "output_type": "execute_result"
    }
   ],
   "source": [
    "data.describe()"
   ]
  },
  {
   "cell_type": "code",
   "execution_count": 38,
   "metadata": {},
   "outputs": [
    {
     "data": {
      "text/plain": [
       "<AxesSubplot:xlabel='date_time'>"
      ]
     },
     "execution_count": 38,
     "metadata": {},
     "output_type": "execute_result"
    },
    {
     "data": {
      "image/png": "[encoded data removed]",
      "text/plain": [
       "<Figure size 432x288 with 1 Axes>"
      ]
     },
     "metadata": {
      "needs_background": "light"
     },
     "output_type": "display_data"
    }
   ],
   "source": [
    "data.plot()"
   ]
  },
  {
   "cell_type": "code",
   "execution_count": 39,
   "metadata": {},
   "outputs": [],
   "source": [
    "from statsmodels.tsa.stattools import adfuller"
   ]
  },
  {
   "cell_type": "code",
   "execution_count": 40,
   "metadata": {},
   "outputs": [],
   "source": [
    "test_result=adfuller(data['mean'])"
   ]
  },
  {
   "cell_type": "code",
   "execution_count": 41,
   "metadata": {},
   "outputs": [
    {
     "data": {
      "text/plain": [
       "(-27.749235080953014,\n",
       " 0.0,\n",
       " 82,\n",
       " 216197,\n",
       " {'1%': -3.430380247309832,\n",
       "  '5%': -2.8615533689162427,\n",
       "  '10%': -2.5667771157925077},\n",
       " 387834.2533714232)"
      ]
     },
     "execution_count": 41,
     "metadata": {},
     "output_type": "execute_result"
    }
   ],
   "source": [
    "test_result"
   ]
  },
  {
   "cell_type": "code",
   "execution_count": 42,
   "metadata": {},
   "outputs": [],
   "source": [
    "#Ho: It is non stationary\n",
    "#H1: It is stationary\n",
    "\n",
    "def adfuller_test(ts_data):\n",
    "    result=adfuller(ts_data)\n",
    "    labels = ['ADF Test Statistic','p-value','#Lags Used','Number of Observations Used']\n",
    "    for value,label in zip(result,labels):\n",
    "        print(label+' : '+str(value) )\n",
    "    if result[1] <= 0.05:\n",
    "        print(\"strong evidence against the null hypothesis(Ho), reject the null hypothesis. Data has no unit root and is stationary\")\n",
    "    else:\n",
    "        print(\"weak evidence against null hypothesis, time series has a unit root, indicating it is non-stationary \")"
   ]
  },
  {
   "cell_type": "code",
   "execution_count": 43,
   "metadata": {},
   "outputs": [
    {
     "name": "stdout",
     "output_type": "stream",
     "text": [
      "ADF Test Statistic : -27.749235080953014\n",
      "p-value : 0.0\n",
      "#Lags Used : 82\n",
      "Number of Observations Used : 216197\n",
      "strong evidence against the null hypothesis(Ho), reject the null hypothesis. Data has no unit root and is stationary\n"
     ]
    }
   ],
   "source": [
    "adfuller_test(data['mean'])"
   ]
  },
  {
   "cell_type": "code",
   "execution_count": 46,
   "metadata": {},
   "outputs": [
    {
     "data": {
      "image/png": "[encoded data removed]",
      "text/plain": [
       "<Figure size 432x288 with 1 Axes>"
      ]
     },
     "metadata": {
      "needs_background": "light"
     },
     "output_type": "display_data"
    }
   ],
   "source": [
    "from pandas.plotting import autocorrelation_plot\n",
    "autocorrelation_plot(data['mean'])\n",
    "plt.show()"
   ]
  },
  {
   "cell_type": "code",
   "execution_count": 47,
   "metadata": {},
   "outputs": [],
   "source": [
    "from statsmodels.graphics.tsaplots import plot_acf,plot_pacf"
   ]
  },
  {
   "cell_type": "code",
   "execution_count": 48,
   "metadata": {},
   "outputs": [],
   "source": [
    "import statsmodels.api as sm"
   ]
  },
  {
   "cell_type": "code",
   "execution_count": 49,
   "metadata": {},
   "outputs": [
    {
     "data": {
      "image/png": "[encoded data removed]",
      "text/plain": [
       "<Figure size 864x576 with 2 Axes>"
      ]
     },
     "metadata": {
      "needs_background": "light"
     },
     "output_type": "display_data"
    }
   ],
   "source": [
    "fig = plt.figure(figsize=(12,8))\n",
    "ax1 = fig.add_subplot(211)\n",
    "fig = sm.graphics.tsa.plot_acf(data['mean'],lags=30,ax=ax1)\n",
    "ax2 = fig.add_subplot(212)\n",
    "fig = sm.graphics.tsa.plot_pacf(data['mean'],lags=30,ax=ax2)"
   ]
  },
  {
   "cell_type": "code",
   "execution_count": 50,
   "metadata": {},
   "outputs": [],
   "source": [
    "# For non-seasonal data\n",
    "#p=1, d=0, q=1\n",
    "from statsmodels.tsa.arima_model import ARIMA"
   ]
  },
  {
   "cell_type": "code",
   "execution_count": 51,
   "metadata": {},
   "outputs": [
    {
     "name": "stderr",
     "output_type": "stream",
     "text": [
      "C:\\Users\\gn221m\\Anaconda3\\lib\\site-packages\\statsmodels\\tsa\\base\\tsa_model.py:218: ValueWarning: A date index has been provided, but it has no associated frequency information and so will be ignored when e.g. forecasting.\n",
      "  ' ignored when e.g. forecasting.', ValueWarning)\n"
     ]
    },
    {
     "ename": "MemoryError",
     "evalue": "Unable to allocate 348. GiB for an array with shape (216198, 216198) and data type float64",
     "output_type": "error",
     "traceback": [
      "\u001b[1;31m---------------------------------------------------------------------------\u001b[0m",
      "\u001b[1;31mMemoryError\u001b[0m                               Traceback (most recent call last)",
      "\u001b[1;32m~\\AppData\\Local\\Temp\\ipykernel_1332\\3123355620.py\u001b[0m in \u001b[0;36m<module>\u001b[1;34m\u001b[0m\n\u001b[0;32m      1\u001b[0m \u001b[0mmodel\u001b[0m\u001b[1;33m=\u001b[0m\u001b[0mARIMA\u001b[0m\u001b[1;33m(\u001b[0m\u001b[0mdata\u001b[0m\u001b[1;33m[\u001b[0m\u001b[1;34m'mean'\u001b[0m\u001b[1;33m]\u001b[0m\u001b[1;33m,\u001b[0m\u001b[0morder\u001b[0m\u001b[1;33m=\u001b[0m\u001b[1;33m(\u001b[0m\u001b[1;36m1\u001b[0m\u001b[1;33m,\u001b[0m\u001b[1;36m0\u001b[0m\u001b[1;33m,\u001b[0m\u001b[1;36m1\u001b[0m\u001b[1;33m)\u001b[0m\u001b[1;33m)\u001b[0m\u001b[1;33m\u001b[0m\u001b[1;33m\u001b[0m\u001b[0m\n\u001b[1;32m----> 2\u001b[1;33m \u001b[0mmodel_fit\u001b[0m\u001b[1;33m=\u001b[0m\u001b[0mmodel\u001b[0m\u001b[1;33m.\u001b[0m\u001b[0mfit\u001b[0m\u001b[1;33m(\u001b[0m\u001b[1;33m)\u001b[0m\u001b[1;33m\u001b[0m\u001b[1;33m\u001b[0m\u001b[0m\n\u001b[0m",
      "\u001b[1;32m~\\Anaconda3\\lib\\site-packages\\statsmodels\\tsa\\arima_model.py\u001b[0m in \u001b[0;36mfit\u001b[1;34m(self, start_params, trend, method, transparams, solver, maxiter, full_output, disp, callback, start_ar_lags, **kwargs)\u001b[0m\n\u001b[0;32m    984\u001b[0m         \u001b[1;32melse\u001b[0m\u001b[1;33m:\u001b[0m  \u001b[1;31m# estimate starting parameters\u001b[0m\u001b[1;33m\u001b[0m\u001b[1;33m\u001b[0m\u001b[0m\n\u001b[0;32m    985\u001b[0m             start_params = self._fit_start_params((k_ar, k_ma, k), method,\n\u001b[1;32m--> 986\u001b[1;33m                                                   start_ar_lags)\n\u001b[0m\u001b[0;32m    987\u001b[0m \u001b[1;33m\u001b[0m\u001b[0m\n\u001b[0;32m    988\u001b[0m         \u001b[1;32mif\u001b[0m \u001b[0mtransparams\u001b[0m\u001b[1;33m:\u001b[0m  \u001b[1;31m# transform initial parameters to ensure invertibility\u001b[0m\u001b[1;33m\u001b[0m\u001b[1;33m\u001b[0m\u001b[0m\n",
      "\u001b[1;32m~\\Anaconda3\\lib\\site-packages\\statsmodels\\tsa\\arima_model.py\u001b[0m in \u001b[0;36m_fit_start_params\u001b[1;34m(self, order, method, start_ar_lags)\u001b[0m\n\u001b[0;32m    575\u001b[0m                 \u001b[1;32mreturn\u001b[0m \u001b[1;33m-\u001b[0m\u001b[0mself\u001b[0m\u001b[1;33m.\u001b[0m\u001b[0mloglike_css\u001b[0m\u001b[1;33m(\u001b[0m\u001b[0mparams\u001b[0m\u001b[1;33m)\u001b[0m\u001b[1;33m\u001b[0m\u001b[1;33m\u001b[0m\u001b[0m\n\u001b[0;32m    576\u001b[0m \u001b[1;33m\u001b[0m\u001b[0m\n\u001b[1;32m--> 577\u001b[1;33m             \u001b[0mstart_params\u001b[0m \u001b[1;33m=\u001b[0m \u001b[0mself\u001b[0m\u001b[1;33m.\u001b[0m\u001b[0m_fit_start_params_hr\u001b[0m\u001b[1;33m(\u001b[0m\u001b[0morder\u001b[0m\u001b[1;33m,\u001b[0m \u001b[0mstart_ar_lags\u001b[0m\u001b[1;33m)\u001b[0m\u001b[1;33m\u001b[0m\u001b[1;33m\u001b[0m\u001b[0m\n\u001b[0m\u001b[0;32m    578\u001b[0m             \u001b[1;32mif\u001b[0m \u001b[0mself\u001b[0m\u001b[1;33m.\u001b[0m\u001b[0mtransparams\u001b[0m\u001b[1;33m:\u001b[0m\u001b[1;33m\u001b[0m\u001b[1;33m\u001b[0m\u001b[0m\n\u001b[0;32m    579\u001b[0m                 \u001b[0mstart_params\u001b[0m \u001b[1;33m=\u001b[0m \u001b[0mself\u001b[0m\u001b[1;33m.\u001b[0m\u001b[0m_invtransparams\u001b[0m\u001b[1;33m(\u001b[0m\u001b[0mstart_params\u001b[0m\u001b[1;33m)\u001b[0m\u001b[1;33m\u001b[0m\u001b[1;33m\u001b[0m\u001b[0m\n",
      "\u001b[1;32m~\\Anaconda3\\lib\\site-packages\\statsmodels\\tsa\\arima_model.py\u001b[0m in \u001b[0;36m_fit_start_params_hr\u001b[1;34m(self, order, start_ar_lags)\u001b[0m\n\u001b[0;32m    510\u001b[0m                     \u001b[1;32mif\u001b[0m \u001b[0mmaxlag\u001b[0m \u001b[1;33m>=\u001b[0m \u001b[0mnobs\u001b[0m\u001b[1;33m:\u001b[0m\u001b[1;33m\u001b[0m\u001b[1;33m\u001b[0m\u001b[0m\n\u001b[0;32m    511\u001b[0m                         \u001b[0mmaxlag\u001b[0m \u001b[1;33m=\u001b[0m \u001b[0mnobs\u001b[0m \u001b[1;33m-\u001b[0m \u001b[1;36m1\u001b[0m\u001b[1;33m\u001b[0m\u001b[1;33m\u001b[0m\u001b[0m\n\u001b[1;32m--> 512\u001b[1;33m                     \u001b[0mmod\u001b[0m \u001b[1;33m=\u001b[0m \u001b[0mar_select_order\u001b[0m\u001b[1;33m(\u001b[0m\u001b[0mendog\u001b[0m\u001b[1;33m,\u001b[0m \u001b[0mmaxlag\u001b[0m\u001b[1;33m,\u001b[0m \u001b[0mtrend\u001b[0m\u001b[1;33m=\u001b[0m\u001b[1;34m'n'\u001b[0m\u001b[1;33m)\u001b[0m\u001b[1;33m.\u001b[0m\u001b[0mmodel\u001b[0m\u001b[1;33m\u001b[0m\u001b[1;33m\u001b[0m\u001b[0m\n\u001b[0m\u001b[0;32m    513\u001b[0m                     \u001b[0marmod\u001b[0m \u001b[1;33m=\u001b[0m \u001b[0mmod\u001b[0m\u001b[1;33m.\u001b[0m\u001b[0mfit\u001b[0m\u001b[1;33m(\u001b[0m\u001b[1;33m)\u001b[0m\u001b[1;33m\u001b[0m\u001b[1;33m\u001b[0m\u001b[0m\n\u001b[0;32m    514\u001b[0m                 \u001b[1;32melse\u001b[0m\u001b[1;33m:\u001b[0m\u001b[1;33m\u001b[0m\u001b[1;33m\u001b[0m\u001b[0m\n",
      "\u001b[1;32m~\\Anaconda3\\lib\\site-packages\\statsmodels\\tsa\\ar_model.py\u001b[0m in \u001b[0;36mar_select_order\u001b[1;34m(endog, maxlag, ic, glob, trend, seasonal, exog, hold_back, period, missing)\u001b[0m\n\u001b[0;32m   2331\u001b[0m             \u001b[0msel\u001b[0m\u001b[1;33m[\u001b[0m\u001b[0mbase_col\u001b[0m\u001b[1;33m:\u001b[0m\u001b[0mbase_col\u001b[0m \u001b[1;33m+\u001b[0m \u001b[0mi\u001b[0m\u001b[1;33m]\u001b[0m \u001b[1;33m=\u001b[0m \u001b[1;32mTrue\u001b[0m\u001b[1;33m\u001b[0m\u001b[1;33m\u001b[0m\u001b[0m\n\u001b[0;32m   2332\u001b[0m             \u001b[1;32mif\u001b[0m \u001b[1;32mnot\u001b[0m \u001b[0mnp\u001b[0m\u001b[1;33m.\u001b[0m\u001b[0many\u001b[0m\u001b[1;33m(\u001b[0m\u001b[0msel\u001b[0m\u001b[1;33m)\u001b[0m\u001b[1;33m:\u001b[0m\u001b[1;33m\u001b[0m\u001b[1;33m\u001b[0m\u001b[0m\n\u001b[1;32m-> 2333\u001b[1;33m                 \u001b[0mics\u001b[0m\u001b[1;33m.\u001b[0m\u001b[0mappend\u001b[0m\u001b[1;33m(\u001b[0m\u001b[1;33m(\u001b[0m\u001b[1;36m0\u001b[0m\u001b[1;33m,\u001b[0m \u001b[0mic_no_data\u001b[0m\u001b[1;33m(\u001b[0m\u001b[1;33m)\u001b[0m\u001b[1;33m)\u001b[0m\u001b[1;33m)\u001b[0m\u001b[1;33m\u001b[0m\u001b[1;33m\u001b[0m\u001b[0m\n\u001b[0m\u001b[0;32m   2334\u001b[0m                 \u001b[1;32mcontinue\u001b[0m\u001b[1;33m\u001b[0m\u001b[1;33m\u001b[0m\u001b[0m\n\u001b[0;32m   2335\u001b[0m             \u001b[0mres\u001b[0m \u001b[1;33m=\u001b[0m \u001b[0mOLS\u001b[0m\u001b[1;33m(\u001b[0m\u001b[0my\u001b[0m\u001b[1;33m,\u001b[0m \u001b[0mx\u001b[0m\u001b[1;33m[\u001b[0m\u001b[1;33m:\u001b[0m\u001b[1;33m,\u001b[0m \u001b[0msel\u001b[0m\u001b[1;33m]\u001b[0m\u001b[1;33m)\u001b[0m\u001b[1;33m.\u001b[0m\u001b[0mfit\u001b[0m\u001b[1;33m(\u001b[0m\u001b[1;33m)\u001b[0m\u001b[1;33m\u001b[0m\u001b[1;33m\u001b[0m\u001b[0m\n",
      "\u001b[1;32m~\\Anaconda3\\lib\\site-packages\\statsmodels\\tsa\\ar_model.py\u001b[0m in \u001b[0;36mic_no_data\u001b[1;34m()\u001b[0m\n\u001b[0;32m   2320\u001b[0m                               \u001b[0mendog\u001b[0m\u001b[1;33m=\u001b[0m\u001b[0my\u001b[0m\u001b[1;33m,\u001b[0m\u001b[1;33m\u001b[0m\u001b[1;33m\u001b[0m\u001b[0m\n\u001b[0;32m   2321\u001b[0m                               exog=np.empty((y.shape[0], 0)))\n\u001b[1;32m-> 2322\u001b[1;33m         \u001b[0mllf\u001b[0m \u001b[1;33m=\u001b[0m \u001b[0mOLS\u001b[0m\u001b[1;33m.\u001b[0m\u001b[0mloglike\u001b[0m\u001b[1;33m(\u001b[0m\u001b[0mmod\u001b[0m\u001b[1;33m,\u001b[0m \u001b[0mnp\u001b[0m\u001b[1;33m.\u001b[0m\u001b[0mempty\u001b[0m\u001b[1;33m(\u001b[0m\u001b[1;36m0\u001b[0m\u001b[1;33m)\u001b[0m\u001b[1;33m)\u001b[0m\u001b[1;33m\u001b[0m\u001b[1;33m\u001b[0m\u001b[0m\n\u001b[0m\u001b[0;32m   2323\u001b[0m         res = SimpleNamespace(resid=y, nobs=y.shape[0], llf=llf,\n\u001b[0;32m   2324\u001b[0m                               df_model=0, k_constant=0)\n",
      "\u001b[1;32m~\\Anaconda3\\lib\\site-packages\\statsmodels\\regression\\linear_model.py\u001b[0m in \u001b[0;36mloglike\u001b[1;34m(self, params, scale)\u001b[0m\n\u001b[0;32m    881\u001b[0m         \u001b[0mnobs2\u001b[0m \u001b[1;33m=\u001b[0m \u001b[0mself\u001b[0m\u001b[1;33m.\u001b[0m\u001b[0mnobs\u001b[0m \u001b[1;33m/\u001b[0m \u001b[1;36m2.0\u001b[0m\u001b[1;33m\u001b[0m\u001b[1;33m\u001b[0m\u001b[0m\n\u001b[0;32m    882\u001b[0m         \u001b[0mnobs\u001b[0m \u001b[1;33m=\u001b[0m \u001b[0mfloat\u001b[0m\u001b[1;33m(\u001b[0m\u001b[0mself\u001b[0m\u001b[1;33m.\u001b[0m\u001b[0mnobs\u001b[0m\u001b[1;33m)\u001b[0m\u001b[1;33m\u001b[0m\u001b[1;33m\u001b[0m\u001b[0m\n\u001b[1;32m--> 883\u001b[1;33m         \u001b[0mresid\u001b[0m \u001b[1;33m=\u001b[0m \u001b[0mself\u001b[0m\u001b[1;33m.\u001b[0m\u001b[0mendog\u001b[0m \u001b[1;33m-\u001b[0m \u001b[0mnp\u001b[0m\u001b[1;33m.\u001b[0m\u001b[0mdot\u001b[0m\u001b[1;33m(\u001b[0m\u001b[0mself\u001b[0m\u001b[1;33m.\u001b[0m\u001b[0mexog\u001b[0m\u001b[1;33m,\u001b[0m \u001b[0mparams\u001b[0m\u001b[1;33m)\u001b[0m\u001b[1;33m\u001b[0m\u001b[1;33m\u001b[0m\u001b[0m\n\u001b[0m\u001b[0;32m    884\u001b[0m         \u001b[1;32mif\u001b[0m \u001b[0mhasattr\u001b[0m\u001b[1;33m(\u001b[0m\u001b[0mself\u001b[0m\u001b[1;33m,\u001b[0m \u001b[1;34m'offset'\u001b[0m\u001b[1;33m)\u001b[0m\u001b[1;33m:\u001b[0m\u001b[1;33m\u001b[0m\u001b[1;33m\u001b[0m\u001b[0m\n\u001b[0;32m    885\u001b[0m             \u001b[0mresid\u001b[0m \u001b[1;33m-=\u001b[0m \u001b[0mself\u001b[0m\u001b[1;33m.\u001b[0m\u001b[0moffset\u001b[0m\u001b[1;33m\u001b[0m\u001b[1;33m\u001b[0m\u001b[0m\n",
      "\u001b[1;31mMemoryError\u001b[0m: Unable to allocate 348. GiB for an array with shape (216198, 216198) and data type float64"
     ]
    }
   ],
   "source": [
    "model=ARIMA(data['mean'],order=(1,0,1))\n",
    "model_fit=model.fit()"
   ]
  },
  {
   "cell_type": "code",
   "execution_count": null,
   "metadata": {},
   "outputs": [],
   "source": [
    "model_fit.summary()"
   ]
  },
  {
   "cell_type": "code",
   "execution_count": null,
   "metadata": {},
   "outputs": [],
   "source": [
    "data['forecast']=model_fit.predict(start=216000,end=216279,dynamic=True)\n",
    "data[['mean','forecast']].plot(figsize=(12,8))"
   ]
  },
  {
   "cell_type": "code",
   "execution_count": null,
   "metadata": {},
   "outputs": [],
   "source": [
    "model=sm.tsa.statespace.SARIMAX(data['mean'],order=(1, 1, 1),seasonal_order=(1,1,1,16))\n",
    "results=model.fit()"
   ]
  },
  {
   "cell_type": "code",
   "execution_count": 65,
   "metadata": {},
   "outputs": [
    {
     "data": {
      "text/plain": [
       "<matplotlib.axes._subplots.AxesSubplot at 0x16cf13aa448>"
      ]
     },
     "execution_count": 65,
     "metadata": {},
     "output_type": "execute_result"
    },
    {
     "data": {
      "image/png": "[encoded data removed]",
      "text/plain": [
       "<Figure size 864x576 with 1 Axes>"
      ]
     },
     "metadata": {
      "needs_background": "light"
     },
     "output_type": "display_data"
    }
   ],
   "source": [
    "data['forecast']=results.predict(start=216000,end=216279,dynamic=True)\n",
    "data[['mean','forecast']].plot(figsize=(12,8))"
   ]
  },
  {
   "cell_type": "code",
   "execution_count": 80,
   "metadata": {},
   "outputs": [],
   "source": [
    "from pandas.tseries.offsets import DateOffset\n",
    "future_dates=[data.index[-1]+ DateOffset(weeks=x)for x in range(0,24)]"
   ]
  },
  {
   "cell_type": "code",
   "execution_count": 81,
   "metadata": {},
   "outputs": [],
   "source": [
    "future_datest_df=pd.DataFrame(index=future_dates[1:],columns=data.columns)"
   ]
  },
  {
   "cell_type": "code",
   "execution_count": 82,
   "metadata": {},
   "outputs": [
    {
     "data": {
      "text/html": [
       "<div>\n",
       "<style scoped>\n",
       "    .dataframe tbody tr th:only-of-type {\n",
       "        vertical-align: middle;\n",
       "    }\n",
       "\n",
       "    .dataframe tbody tr th {\n",
       "        vertical-align: top;\n",
       "    }\n",
       "\n",
       "    .dataframe thead th {\n",
       "        text-align: right;\n",
       "    }\n",
       "</style>\n",
       "<table border=\"1\" class=\"dataframe\">\n",
       "  <thead>\n",
       "    <tr style=\"text-align: right;\">\n",
       "      <th></th>\n",
       "      <th>Selected Period</th>\n",
       "      <th>forecast</th>\n",
       "    </tr>\n",
       "  </thead>\n",
       "  <tbody>\n",
       "    <tr>\n",
       "      <th>2014-08-11</th>\n",
       "      <td>NaN</td>\n",
       "      <td>NaN</td>\n",
       "    </tr>\n",
       "    <tr>\n",
       "      <th>2014-08-18</th>\n",
       "      <td>NaN</td>\n",
       "      <td>NaN</td>\n",
       "    </tr>\n",
       "    <tr>\n",
       "      <th>2014-08-25</th>\n",
       "      <td>NaN</td>\n",
       "      <td>NaN</td>\n",
       "    </tr>\n",
       "    <tr>\n",
       "      <th>2014-09-01</th>\n",
       "      <td>NaN</td>\n",
       "      <td>NaN</td>\n",
       "    </tr>\n",
       "    <tr>\n",
       "      <th>2014-09-08</th>\n",
       "      <td>NaN</td>\n",
       "      <td>NaN</td>\n",
       "    </tr>\n",
       "  </tbody>\n",
       "</table>\n",
       "</div>"
      ],
      "text/plain": [
       "           Selected Period forecast\n",
       "2014-08-11             NaN      NaN\n",
       "2014-08-18             NaN      NaN\n",
       "2014-08-25             NaN      NaN\n",
       "2014-09-01             NaN      NaN\n",
       "2014-09-08             NaN      NaN"
      ]
     },
     "execution_count": 82,
     "metadata": {},
     "output_type": "execute_result"
    }
   ],
   "source": [
    "future_datest_df.tail()"
   ]
  },
  {
   "cell_type": "code",
   "execution_count": 83,
   "metadata": {},
   "outputs": [],
   "source": [
    "future_df=pd.concat([data,future_datest_df])"
   ]
  },
  {
   "cell_type": "code",
   "execution_count": 84,
   "metadata": {},
   "outputs": [
    {
     "data": {
      "text/plain": [
       "Selected Period     23\n",
       "forecast           125\n",
       "dtype: int64"
      ]
     },
     "execution_count": 84,
     "metadata": {},
     "output_type": "execute_result"
    }
   ],
   "source": [
    "future_df.isna().sum()"
   ]
  },
  {
   "cell_type": "code",
   "execution_count": 85,
   "metadata": {},
   "outputs": [
    {
     "data": {
      "text/plain": [
       "(142, 2)"
      ]
     },
     "execution_count": 85,
     "metadata": {},
     "output_type": "execute_result"
    }
   ],
   "source": [
    "future_df.shape"
   ]
  },
  {
   "cell_type": "code",
   "execution_count": 90,
   "metadata": {},
   "outputs": [
    {
     "data": {
      "text/html": [
       "<div>\n",
       "<style scoped>\n",
       "    .dataframe tbody tr th:only-of-type {\n",
       "        vertical-align: middle;\n",
       "    }\n",
       "\n",
       "    .dataframe tbody tr th {\n",
       "        vertical-align: top;\n",
       "    }\n",
       "\n",
       "    .dataframe thead th {\n",
       "        text-align: right;\n",
       "    }\n",
       "</style>\n",
       "<table border=\"1\" class=\"dataframe\">\n",
       "  <thead>\n",
       "    <tr style=\"text-align: right;\">\n",
       "      <th></th>\n",
       "      <th>Selected Period</th>\n",
       "      <th>forecast</th>\n",
       "    </tr>\n",
       "  </thead>\n",
       "  <tbody>\n",
       "    <tr>\n",
       "      <th>2014-02-17</th>\n",
       "      <td>18630689</td>\n",
       "      <td>NaN</td>\n",
       "    </tr>\n",
       "    <tr>\n",
       "      <th>2014-02-24</th>\n",
       "      <td>18738184</td>\n",
       "      <td>NaN</td>\n",
       "    </tr>\n",
       "    <tr>\n",
       "      <th>2014-03-03</th>\n",
       "      <td>18360715</td>\n",
       "      <td>NaN</td>\n",
       "    </tr>\n",
       "    <tr>\n",
       "      <th>2014-03-10</th>\n",
       "      <td>18365867</td>\n",
       "      <td>NaN</td>\n",
       "    </tr>\n",
       "    <tr>\n",
       "      <th>2014-03-17</th>\n",
       "      <td>18415120</td>\n",
       "      <td>NaN</td>\n",
       "    </tr>\n",
       "    <tr>\n",
       "      <th>2014-03-24</th>\n",
       "      <td>18432161</td>\n",
       "      <td>NaN</td>\n",
       "    </tr>\n",
       "    <tr>\n",
       "      <th>2014-03-31</th>\n",
       "      <td>18363832</td>\n",
       "      <td>NaN</td>\n",
       "    </tr>\n",
       "    <tr>\n",
       "      <th>2014-04-07</th>\n",
       "      <td>NaN</td>\n",
       "      <td>1.841141e+07</td>\n",
       "    </tr>\n",
       "    <tr>\n",
       "      <th>2014-04-14</th>\n",
       "      <td>NaN</td>\n",
       "      <td>1.821944e+07</td>\n",
       "    </tr>\n",
       "    <tr>\n",
       "      <th>2014-04-21</th>\n",
       "      <td>NaN</td>\n",
       "      <td>1.824251e+07</td>\n",
       "    </tr>\n",
       "    <tr>\n",
       "      <th>2014-04-28</th>\n",
       "      <td>NaN</td>\n",
       "      <td>1.861820e+07</td>\n",
       "    </tr>\n",
       "    <tr>\n",
       "      <th>2014-05-05</th>\n",
       "      <td>NaN</td>\n",
       "      <td>1.866322e+07</td>\n",
       "    </tr>\n",
       "    <tr>\n",
       "      <th>2014-05-12</th>\n",
       "      <td>NaN</td>\n",
       "      <td>1.853605e+07</td>\n",
       "    </tr>\n",
       "    <tr>\n",
       "      <th>2014-05-19</th>\n",
       "      <td>NaN</td>\n",
       "      <td>1.974924e+07</td>\n",
       "    </tr>\n",
       "    <tr>\n",
       "      <th>2014-05-26</th>\n",
       "      <td>NaN</td>\n",
       "      <td>1.864691e+07</td>\n",
       "    </tr>\n",
       "    <tr>\n",
       "      <th>2014-06-02</th>\n",
       "      <td>NaN</td>\n",
       "      <td>1.848167e+07</td>\n",
       "    </tr>\n",
       "    <tr>\n",
       "      <th>2014-06-09</th>\n",
       "      <td>NaN</td>\n",
       "      <td>1.801946e+07</td>\n",
       "    </tr>\n",
       "    <tr>\n",
       "      <th>2014-06-16</th>\n",
       "      <td>NaN</td>\n",
       "      <td>1.913448e+07</td>\n",
       "    </tr>\n",
       "    <tr>\n",
       "      <th>2014-06-23</th>\n",
       "      <td>NaN</td>\n",
       "      <td>2.926263e+07</td>\n",
       "    </tr>\n",
       "    <tr>\n",
       "      <th>2014-06-30</th>\n",
       "      <td>NaN</td>\n",
       "      <td>1.973902e+07</td>\n",
       "    </tr>\n",
       "    <tr>\n",
       "      <th>2014-07-07</th>\n",
       "      <td>NaN</td>\n",
       "      <td>2.035253e+07</td>\n",
       "    </tr>\n",
       "    <tr>\n",
       "      <th>2014-07-14</th>\n",
       "      <td>NaN</td>\n",
       "      <td>2.063019e+07</td>\n",
       "    </tr>\n",
       "    <tr>\n",
       "      <th>2014-07-21</th>\n",
       "      <td>NaN</td>\n",
       "      <td>2.051495e+07</td>\n",
       "    </tr>\n",
       "    <tr>\n",
       "      <th>2014-07-28</th>\n",
       "      <td>NaN</td>\n",
       "      <td>2.049803e+07</td>\n",
       "    </tr>\n",
       "    <tr>\n",
       "      <th>2014-08-04</th>\n",
       "      <td>NaN</td>\n",
       "      <td>2.005584e+07</td>\n",
       "    </tr>\n",
       "    <tr>\n",
       "      <th>2014-08-11</th>\n",
       "      <td>NaN</td>\n",
       "      <td>2.004084e+07</td>\n",
       "    </tr>\n",
       "    <tr>\n",
       "      <th>2014-08-18</th>\n",
       "      <td>NaN</td>\n",
       "      <td>2.085977e+07</td>\n",
       "    </tr>\n",
       "    <tr>\n",
       "      <th>2014-08-25</th>\n",
       "      <td>NaN</td>\n",
       "      <td>2.094435e+07</td>\n",
       "    </tr>\n",
       "    <tr>\n",
       "      <th>2014-09-01</th>\n",
       "      <td>NaN</td>\n",
       "      <td>2.076246e+07</td>\n",
       "    </tr>\n",
       "    <tr>\n",
       "      <th>2014-09-08</th>\n",
       "      <td>NaN</td>\n",
       "      <td>2.147941e+07</td>\n",
       "    </tr>\n",
       "  </tbody>\n",
       "</table>\n",
       "</div>"
      ],
      "text/plain": [
       "           Selected Period      forecast\n",
       "2014-02-17        18630689           NaN\n",
       "2014-02-24        18738184           NaN\n",
       "2014-03-03        18360715           NaN\n",
       "2014-03-10        18365867           NaN\n",
       "2014-03-17        18415120           NaN\n",
       "2014-03-24        18432161           NaN\n",
       "2014-03-31        18363832           NaN\n",
       "2014-04-07             NaN  1.841141e+07\n",
       "2014-04-14             NaN  1.821944e+07\n",
       "2014-04-21             NaN  1.824251e+07\n",
       "2014-04-28             NaN  1.861820e+07\n",
       "2014-05-05             NaN  1.866322e+07\n",
       "2014-05-12             NaN  1.853605e+07\n",
       "2014-05-19             NaN  1.974924e+07\n",
       "2014-05-26             NaN  1.864691e+07\n",
       "2014-06-02             NaN  1.848167e+07\n",
       "2014-06-09             NaN  1.801946e+07\n",
       "2014-06-16             NaN  1.913448e+07\n",
       "2014-06-23             NaN  2.926263e+07\n",
       "2014-06-30             NaN  1.973902e+07\n",
       "2014-07-07             NaN  2.035253e+07\n",
       "2014-07-14             NaN  2.063019e+07\n",
       "2014-07-21             NaN  2.051495e+07\n",
       "2014-07-28             NaN  2.049803e+07\n",
       "2014-08-04             NaN  2.005584e+07\n",
       "2014-08-11             NaN  2.004084e+07\n",
       "2014-08-18             NaN  2.085977e+07\n",
       "2014-08-25             NaN  2.094435e+07\n",
       "2014-09-01             NaN  2.076246e+07\n",
       "2014-09-08             NaN  2.147941e+07"
      ]
     },
     "execution_count": 90,
     "metadata": {},
     "output_type": "execute_result"
    }
   ],
   "source": [
    "future_df.tail(30)"
   ]
  },
  {
   "cell_type": "code",
   "execution_count": 89,
   "metadata": {},
   "outputs": [
    {
     "data": {
      "text/plain": [
       "<matplotlib.axes._subplots.AxesSubplot at 0x16cf1836cc8>"
      ]
     },
     "execution_count": 89,
     "metadata": {},
     "output_type": "execute_result"
    },
    {
     "data": {
      "image/png": "[encoded data removed]",
      "text/plain": [
       "<Figure size 864x576 with 1 Axes>"
      ]
     },
     "metadata": {
      "needs_background": "light"
     },
     "output_type": "display_data"
    }
   ],
   "source": [
    "future_df['forecast'] = results.predict(start = 119, end = 141, dynamic= True)  \n",
    "future_df[['Selected Period', 'forecast']].plot(figsize=(12, 8))"
   ]
  },
  {
   "cell_type": "code",
   "execution_count": 91,
   "metadata": {},
   "outputs": [
    {
     "data": {
      "text/plain": [
       "Selected Period     23\n",
       "forecast           119\n",
       "dtype: int64"
      ]
     },
     "execution_count": 91,
     "metadata": {},
     "output_type": "execute_result"
    }
   ],
   "source": [
    "future_df.isna().sum()"
   ]
  },
  {
   "cell_type": "markdown",
   "metadata": {},
   "source": [
    "# Prediction using LSTM"
   ]
  },
  {
   "cell_type": "code",
   "execution_count": 3,
   "metadata": {},
   "outputs": [],
   "source": [
    "df = pd.read_csv(\"Harpended_3years.csv\")"
   ]
  },
  {
   "cell_type": "code",
   "execution_count": 4,
   "metadata": {},
   "outputs": [
    {
     "data": {
      "text/html": [
       "<div>\n",
       "<style scoped>\n",
       "    .dataframe tbody tr th:only-of-type {\n",
       "        vertical-align: middle;\n",
       "    }\n",
       "\n",
       "    .dataframe tbody tr th {\n",
       "        vertical-align: top;\n",
       "    }\n",
       "\n",
       "    .dataframe thead th {\n",
       "        text-align: right;\n",
       "    }\n",
       "</style>\n",
       "<table border=\"1\" class=\"dataframe\">\n",
       "  <thead>\n",
       "    <tr style=\"text-align: right;\">\n",
       "      <th></th>\n",
       "      <th>directory_id</th>\n",
       "      <th>date_time</th>\n",
       "      <th>site_id</th>\n",
       "      <th>channel</th>\n",
       "      <th>archive</th>\n",
       "      <th>value</th>\n",
       "      <th>max</th>\n",
       "      <th>min</th>\n",
       "      <th>mean</th>\n",
       "      <th>standard_deviation</th>\n",
       "    </tr>\n",
       "  </thead>\n",
       "  <tbody>\n",
       "    <tr>\n",
       "      <th>0</th>\n",
       "      <td>1</td>\n",
       "      <td>2020-09-01 00:00:00</td>\n",
       "      <td>35131</td>\n",
       "      <td>2</td>\n",
       "      <td>0</td>\n",
       "      <td>NaN</td>\n",
       "      <td>24.01584</td>\n",
       "      <td>22.834732</td>\n",
       "      <td>23.228435</td>\n",
       "      <td>0.393702</td>\n",
       "    </tr>\n",
       "    <tr>\n",
       "      <th>1</th>\n",
       "      <td>1</td>\n",
       "      <td>2020-09-01 00:10:00</td>\n",
       "      <td>35131</td>\n",
       "      <td>2</td>\n",
       "      <td>0</td>\n",
       "      <td>NaN</td>\n",
       "      <td>24.01584</td>\n",
       "      <td>22.834732</td>\n",
       "      <td>23.228435</td>\n",
       "      <td>0.393702</td>\n",
       "    </tr>\n",
       "  </tbody>\n",
       "</table>\n",
       "</div>"
      ],
      "text/plain": [
       "   directory_id            date_time  site_id  channel  archive  value  \\\n",
       "0             1  2020-09-01 00:00:00    35131        2        0    NaN   \n",
       "1             1  2020-09-01 00:10:00    35131        2        0    NaN   \n",
       "\n",
       "        max        min       mean  standard_deviation  \n",
       "0  24.01584  22.834732  23.228435            0.393702  \n",
       "1  24.01584  22.834732  23.228435            0.393702  "
      ]
     },
     "execution_count": 4,
     "metadata": {},
     "output_type": "execute_result"
    }
   ],
   "source": [
    "df.head(2)"
   ]
  },
  {
   "cell_type": "code",
   "execution_count": 5,
   "metadata": {},
   "outputs": [],
   "source": [
    "df[\"date_time\"] = pd.to_datetime(df[\"date_time\"])\n",
    "df = df.sort_values(by='date_time')\n",
    "df.reset_index(drop=True, inplace=True)"
   ]
  },
  {
   "cell_type": "code",
   "execution_count": 15,
   "metadata": {},
   "outputs": [],
   "source": [
    "raw_seq = []\n",
    "for i in df['mean']:\n",
    "    raw_seq.append(i)"
   ]
  },
  {
   "cell_type": "code",
   "execution_count": 16,
   "metadata": {},
   "outputs": [
    {
     "data": {
      "text/plain": [
       "list"
      ]
     },
     "execution_count": 16,
     "metadata": {},
     "output_type": "execute_result"
    }
   ],
   "source": [
    "type(raw_seq)"
   ]
  },
  {
   "cell_type": "code",
   "execution_count": 17,
   "metadata": {},
   "outputs": [
    {
     "data": {
      "text/plain": [
       "216303"
      ]
     },
     "execution_count": 17,
     "metadata": {},
     "output_type": "execute_result"
    }
   ],
   "source": [
    "len(raw_seq)"
   ]
  },
  {
   "cell_type": "code",
   "execution_count": 20,
   "metadata": {},
   "outputs": [],
   "source": [
    "train=raw_seq[0:200000]"
   ]
  },
  {
   "cell_type": "code",
   "execution_count": 21,
   "metadata": {},
   "outputs": [
    {
     "data": {
      "text/plain": [
       "200000"
      ]
     },
     "execution_count": 21,
     "metadata": {},
     "output_type": "execute_result"
    }
   ],
   "source": [
    "len(train)"
   ]
  },
  {
   "cell_type": "code",
   "execution_count": 22,
   "metadata": {},
   "outputs": [
    {
     "data": {
      "text/plain": [
       "16303"
      ]
     },
     "execution_count": 22,
     "metadata": {},
     "output_type": "execute_result"
    }
   ],
   "source": [
    "test=raw_seq[200000:len(raw_seq)]\n",
    "len(test)"
   ]
  },
  {
   "cell_type": "code",
   "execution_count": 23,
   "metadata": {},
   "outputs": [],
   "source": [
    "n_steps_in=100\n",
    "n_steps_out=5"
   ]
  },
  {
   "cell_type": "code",
   "execution_count": 24,
   "metadata": {},
   "outputs": [],
   "source": [
    "def split_sequences(sequence,n_steps_in,n_steps_out):\n",
    "    X=[]\n",
    "    y=[]\n",
    "    for i in range(len(sequence)):\n",
    "        end_ix=i+n_steps_in\n",
    "        out_end_ix=end_ix+n_steps_out\n",
    "        if out_end_ix>len(sequence):\n",
    "            break\n",
    "        seq_x=sequence[i:end_ix]\n",
    "        seq_y=sequence[end_ix:out_end_ix]\n",
    "        X.append(seq_x)\n",
    "        y.append(seq_y)\n",
    "    return np.array(X),np.array(y)"
   ]
  },
  {
   "cell_type": "code",
   "execution_count": null,
   "metadata": {},
   "outputs": [],
   "source": [
    "ip_data = [[1,3,5,7,9,-----100]] \n",
    "op_data = [[105]]"
   ]
  },
  {
   "cell_type": "code",
   "execution_count": 25,
   "metadata": {},
   "outputs": [],
   "source": [
    "X,y=split_sequences(train,n_steps_in,n_steps_out)"
   ]
  },
  {
   "cell_type": "code",
   "execution_count": 26,
   "metadata": {},
   "outputs": [
    {
     "data": {
      "text/plain": [
       "(199900, 100)"
      ]
     },
     "execution_count": 26,
     "metadata": {},
     "output_type": "execute_result"
    }
   ],
   "source": [
    "X.shape"
   ]
  },
  {
   "cell_type": "code",
   "execution_count": 27,
   "metadata": {},
   "outputs": [],
   "source": [
    "n_features = 1"
   ]
  },
  {
   "cell_type": "code",
   "execution_count": 28,
   "metadata": {},
   "outputs": [],
   "source": [
    "X_reshape=X.reshape((X.shape[0], X.shape[1], n_features))"
   ]
  },
  {
   "cell_type": "code",
   "execution_count": 31,
   "metadata": {},
   "outputs": [],
   "source": [
    "from keras.models import Sequential\n",
    "from tensorflow.keras.layers import LSTM\n",
    "from tensorflow.keras.layers import Dense\n",
    "# define model\n",
    "model=Sequential()\n",
    "model.add(LSTM(100, activation='tanh',return_sequences=True, input_shape=(n_steps_in,n_features)))\n",
    "model.add(LSTM(100, activation='tanh'))\n",
    "model.add((Dense(n_steps_out)))\n",
    "model.compile(optimizer='adam', loss='mse')"
   ]
  },
  {
   "cell_type": "code",
   "execution_count": null,
   "metadata": {},
   "outputs": [
    {
     "name": "stdout",
     "output_type": "stream",
     "text": [
      "Epoch 1/5\n",
      "6247/6247 [==============================] - 1489s 238ms/step - loss: nan\n",
      "Epoch 2/5\n",
      "6247/6247 [==============================] - 64477s 10s/step - loss: nan\n",
      "Epoch 3/5\n",
      "4819/6247 [======================>.......] - ETA: 2:20:03 - loss: nan"
     ]
    }
   ],
   "source": [
    "model.fit(X_reshape, y, epochs=5)"
   ]
  },
  {
   "cell_type": "code",
   "execution_count": 190,
   "metadata": {},
   "outputs": [
    {
     "data": {
      "text/plain": [
       "(66, 6)"
      ]
     },
     "execution_count": 190,
     "metadata": {},
     "output_type": "execute_result"
    }
   ],
   "source": [
    "y.shape"
   ]
  },
  {
   "cell_type": "code",
   "execution_count": null,
   "metadata": {},
   "outputs": [],
   "source": [
    "                cpu        memo       disk\n",
    "ip_data = [[1,2,3,4,5],[2,3,4,5,6],[3,4,5,6,7]]\n",
    "op_data = [[6,7],[],[]]\n",
    "\n"
   ]
  },
  {
   "cell_type": "code",
   "execution_count": null,
   "metadata": {},
   "outputs": [],
   "source": []
  },
  {
   "cell_type": "code",
   "execution_count": 191,
   "metadata": {},
   "outputs": [
    {
     "name": "stdout",
     "output_type": "stream",
     "text": [
      "[ 1284608 13059880 14076974 14337217 14681748 14909798 14864322 14955400\n",
      " 14866994 15261015 15177031 15062802 14908143 14920376 13757753 14657246\n",
      "  5201136 14647828 13637554 14744068 14516236 14012388 14086698 14731179] [15080029 14871677 14691308 13994652 14468489 14254185]\n",
      "[13059880 14076974 14337217 14681748 14909798 14864322 14955400 14866994\n",
      " 15261015 15177031 15062802 14908143 14920376 13757753 14657246  5201136\n",
      " 14647828 13637554 14744068 14516236 14012388 14086698 14731179 15080029] [14871677 14691308 13994652 14468489 14254185 14113240]\n",
      "[14076974 14337217 14681748 14909798 14864322 14955400 14866994 15261015\n",
      " 15177031 15062802 14908143 14920376 13757753 14657246  5201136 14647828\n",
      " 13637554 14744068 14516236 14012388 14086698 14731179 15080029 14871677] [14691308 13994652 14468489 14254185 14113240 14363500]\n",
      "[14337217 14681748 14909798 14864322 14955400 14866994 15261015 15177031\n",
      " 15062802 14908143 14920376 13757753 14657246  5201136 14647828 13637554\n",
      " 14744068 14516236 14012388 14086698 14731179 15080029 14871677 14691308] [13994652 14468489 14254185 14113240 14363500 13843422]\n",
      "[14681748 14909798 14864322 14955400 14866994 15261015 15177031 15062802\n",
      " 14908143 14920376 13757753 14657246  5201136 14647828 13637554 14744068\n",
      " 14516236 14012388 14086698 14731179 15080029 14871677 14691308 13994652] [14468489 14254185 14113240 14363500 13843422 13792816]\n",
      "[14909798 14864322 14955400 14866994 15261015 15177031 15062802 14908143\n",
      " 14920376 13757753 14657246  5201136 14647828 13637554 14744068 14516236\n",
      " 14012388 14086698 14731179 15080029 14871677 14691308 13994652 14468489] [14254185 14113240 14363500 13843422 13792816 14642269]\n",
      "[14864322 14955400 14866994 15261015 15177031 15062802 14908143 14920376\n",
      " 13757753 14657246  5201136 14647828 13637554 14744068 14516236 14012388\n",
      " 14086698 14731179 15080029 14871677 14691308 13994652 14468489 14254185] [14113240 14363500 13843422 13792816 14642269  5724265]\n",
      "[14955400 14866994 15261015 15177031 15062802 14908143 14920376 13757753\n",
      " 14657246  5201136 14647828 13637554 14744068 14516236 14012388 14086698\n",
      " 14731179 15080029 14871677 14691308 13994652 14468489 14254185 14113240] [14363500 13843422 13792816 14642269  5724265 15671224]\n",
      "[14866994 15261015 15177031 15062802 14908143 14920376 13757753 14657246\n",
      "  5201136 14647828 13637554 14744068 14516236 14012388 14086698 14731179\n",
      " 15080029 14871677 14691308 13994652 14468489 14254185 14113240 14363500] [13843422 13792816 14642269  5724265 15671224 15872010]\n",
      "[15261015 15177031 15062802 14908143 14920376 13757753 14657246  5201136\n",
      " 14647828 13637554 14744068 14516236 14012388 14086698 14731179 15080029\n",
      " 14871677 14691308 13994652 14468489 14254185 14113240 14363500 13843422] [13792816 14642269  5724265 15671224 15872010 15282860]\n",
      "[15177031 15062802 14908143 14920376 13757753 14657246  5201136 14647828\n",
      " 13637554 14744068 14516236 14012388 14086698 14731179 15080029 14871677\n",
      " 14691308 13994652 14468489 14254185 14113240 14363500 13843422 13792816] [14642269  5724265 15671224 15872010 15282860 15704942]\n",
      "[15062802 14908143 14920376 13757753 14657246  5201136 14647828 13637554\n",
      " 14744068 14516236 14012388 14086698 14731179 15080029 14871677 14691308\n",
      " 13994652 14468489 14254185 14113240 14363500 13843422 13792816 14642269] [ 5724265 15671224 15872010 15282860 15704942 15683928]\n",
      "[14908143 14920376 13757753 14657246  5201136 14647828 13637554 14744068\n",
      " 14516236 14012388 14086698 14731179 15080029 14871677 14691308 13994652\n",
      " 14468489 14254185 14113240 14363500 13843422 13792816 14642269  5724265] [15671224 15872010 15282860 15704942 15683928 16233541]\n",
      "[14920376 13757753 14657246  5201136 14647828 13637554 14744068 14516236\n",
      " 14012388 14086698 14731179 15080029 14871677 14691308 13994652 14468489\n",
      " 14254185 14113240 14363500 13843422 13792816 14642269  5724265 15671224] [15872010 15282860 15704942 15683928 16233541 16429531]\n",
      "[13757753 14657246  5201136 14647828 13637554 14744068 14516236 14012388\n",
      " 14086698 14731179 15080029 14871677 14691308 13994652 14468489 14254185\n",
      " 14113240 14363500 13843422 13792816 14642269  5724265 15671224 15872010] [15282860 15704942 15683928 16233541 16429531 16762292]\n",
      "[14657246  5201136 14647828 13637554 14744068 14516236 14012388 14086698\n",
      " 14731179 15080029 14871677 14691308 13994652 14468489 14254185 14113240\n",
      " 14363500 13843422 13792816 14642269  5724265 15671224 15872010 15282860] [15704942 15683928 16233541 16429531 16762292 16486983]\n",
      "[ 5201136 14647828 13637554 14744068 14516236 14012388 14086698 14731179\n",
      " 15080029 14871677 14691308 13994652 14468489 14254185 14113240 14363500\n",
      " 13843422 13792816 14642269  5724265 15671224 15872010 15282860 15704942] [15683928 16233541 16429531 16762292 16486983 31075937]\n",
      "[14647828 13637554 14744068 14516236 14012388 14086698 14731179 15080029\n",
      " 14871677 14691308 13994652 14468489 14254185 14113240 14363500 13843422\n",
      " 13792816 14642269  5724265 15671224 15872010 15282860 15704942 15683928] [16233541 16429531 16762292 16486983 31075937 16622077]\n",
      "[13637554 14744068 14516236 14012388 14086698 14731179 15080029 14871677\n",
      " 14691308 13994652 14468489 14254185 14113240 14363500 13843422 13792816\n",
      " 14642269  5724265 15671224 15872010 15282860 15704942 15683928 16233541] [16429531 16762292 16486983 31075937 16622077 17315525]\n",
      "[14744068 14516236 14012388 14086698 14731179 15080029 14871677 14691308\n",
      " 13994652 14468489 14254185 14113240 14363500 13843422 13792816 14642269\n",
      "  5724265 15671224 15872010 15282860 15704942 15683928 16233541 16429531] [16762292 16486983 31075937 16622077 17315525 18013902]\n",
      "[14516236 14012388 14086698 14731179 15080029 14871677 14691308 13994652\n",
      " 14468489 14254185 14113240 14363500 13843422 13792816 14642269  5724265\n",
      " 15671224 15872010 15282860 15704942 15683928 16233541 16429531 16762292] [16486983 31075937 16622077 17315525 18013902 15190039]\n",
      "[14012388 14086698 14731179 15080029 14871677 14691308 13994652 14468489\n",
      " 14254185 14113240 14363500 13843422 13792816 14642269  5724265 15671224\n",
      " 15872010 15282860 15704942 15683928 16233541 16429531 16762292 16486983] [31075937 16622077 17315525 18013902 15190039 13059856]\n",
      "[14086698 14731179 15080029 14871677 14691308 13994652 14468489 14254185\n",
      " 14113240 14363500 13843422 13792816 14642269  5724265 15671224 15872010\n",
      " 15282860 15704942 15683928 16233541 16429531 16762292 16486983 31075937] [16622077 17315525 18013902 15190039 13059856 12372226]\n",
      "[14731179 15080029 14871677 14691308 13994652 14468489 14254185 14113240\n",
      " 14363500 13843422 13792816 14642269  5724265 15671224 15872010 15282860\n",
      " 15704942 15683928 16233541 16429531 16762292 16486983 31075937 16622077] [17315525 18013902 15190039 13059856 12372226 11843832]\n"
     ]
    }
   ],
   "source": [
    "for i in range(len(X[0])): \n",
    "    print(X[i], y[i])"
   ]
  },
  {
   "cell_type": "code",
   "execution_count": 192,
   "metadata": {},
   "outputs": [],
   "source": [
    "test_array=np.array(test)"
   ]
  },
  {
   "cell_type": "code",
   "execution_count": 193,
   "metadata": {},
   "outputs": [
    {
     "data": {
      "text/plain": [
       "array([11752987, 12653734, 15003991, 50876875, 19229840, 19433810,\n",
       "       20253975, 19766058, 19405818, 17723932, 17520470, 20531934,\n",
       "       20812220, 20359660, 18621842, 17834756, 18342182, 18630689,\n",
       "       18738184, 18360715, 18365867, 18415120, 18432161, 18363832])"
      ]
     },
     "execution_count": 193,
     "metadata": {},
     "output_type": "execute_result"
    }
   ],
   "source": [
    "test_array"
   ]
  },
  {
   "cell_type": "code",
   "execution_count": 194,
   "metadata": {},
   "outputs": [],
   "source": [
    "test_reshape = test_array.reshape((1, n_steps_in, n_features))"
   ]
  },
  {
   "cell_type": "code",
   "execution_count": 195,
   "metadata": {},
   "outputs": [],
   "source": [
    "pred = model.predict(test_reshape, verbose=0)"
   ]
  },
  {
   "cell_type": "code",
   "execution_count": 196,
   "metadata": {},
   "outputs": [
    {
     "data": {
      "text/plain": [
       "array([[34.222675, 37.719517, 36.16188 , 37.08753 , 36.953682, 34.81454 ]],\n",
       "      dtype=float32)"
      ]
     },
     "execution_count": 196,
     "metadata": {},
     "output_type": "execute_result"
    }
   ],
   "source": [
    "pred"
   ]
  },
  {
   "cell_type": "code",
   "execution_count": 197,
   "metadata": {},
   "outputs": [],
   "source": [
    "train_predict=model.predict(X_reshape)"
   ]
  },
  {
   "cell_type": "code",
   "execution_count": 198,
   "metadata": {},
   "outputs": [
    {
     "data": {
      "text/plain": [
       "array([[34.222675, 37.719517, 36.16188 , 37.08753 , 36.953686, 34.81454 ],\n",
       "       [34.222675, 37.719517, 36.16188 , 37.08753 , 36.953686, 34.81454 ],\n",
       "       [34.222675, 37.719517, 36.16188 , 37.08753 , 36.953686, 34.81454 ],\n",
       "       [34.222675, 37.719517, 36.16188 , 37.08753 , 36.953686, 34.81454 ],\n",
       "       [34.222675, 37.719517, 36.16188 , 37.08753 , 36.953686, 34.81454 ],\n",
       "       [34.222675, 37.719517, 36.16188 , 37.08753 , 36.953686, 34.81454 ],\n",
       "       [34.222675, 37.719517, 36.16188 , 37.08753 , 36.953686, 34.81454 ],\n",
       "       [34.222675, 37.719517, 36.16188 , 37.08753 , 36.953686, 34.81454 ],\n",
       "       [34.222675, 37.719517, 36.16188 , 37.08753 , 36.953686, 34.81454 ],\n",
       "       [34.222675, 37.719517, 36.16188 , 37.08753 , 36.953686, 34.81454 ],\n",
       "       [34.222675, 37.719517, 36.16188 , 37.08753 , 36.953686, 34.81454 ],\n",
       "       [34.222675, 37.719517, 36.16188 , 37.08753 , 36.953686, 34.81454 ],\n",
       "       [34.222675, 37.719517, 36.16188 , 37.08753 , 36.953686, 34.81454 ],\n",
       "       [34.222675, 37.719517, 36.16188 , 37.08753 , 36.953686, 34.81454 ],\n",
       "       [34.222675, 37.719517, 36.16188 , 37.08753 , 36.953686, 34.81454 ],\n",
       "       [34.222675, 37.719517, 36.16188 , 37.08753 , 36.953686, 34.81454 ],\n",
       "       [34.222675, 37.719517, 36.16188 , 37.08753 , 36.953686, 34.81454 ],\n",
       "       [34.222675, 37.719517, 36.16188 , 37.08753 , 36.953686, 34.81454 ],\n",
       "       [34.222675, 37.719517, 36.16188 , 37.08753 , 36.953686, 34.81454 ],\n",
       "       [34.222675, 37.719517, 36.16188 , 37.08753 , 36.953686, 34.81454 ],\n",
       "       [34.222675, 37.719517, 36.16188 , 37.08753 , 36.953686, 34.81454 ],\n",
       "       [34.222675, 37.719517, 36.16188 , 37.08753 , 36.953686, 34.81454 ],\n",
       "       [34.222675, 37.719517, 36.16188 , 37.08753 , 36.953686, 34.81454 ],\n",
       "       [34.222675, 37.719517, 36.16188 , 37.08753 , 36.953686, 34.81454 ],\n",
       "       [34.222675, 37.719517, 36.16188 , 37.08753 , 36.953686, 34.81454 ],\n",
       "       [34.222675, 37.719517, 36.16188 , 37.08753 , 36.953686, 34.81454 ],\n",
       "       [34.222675, 37.719517, 36.16188 , 37.08753 , 36.953686, 34.81454 ],\n",
       "       [34.222675, 37.719517, 36.16188 , 37.08753 , 36.953686, 34.81454 ],\n",
       "       [34.222675, 37.719517, 36.16188 , 37.08753 , 36.953686, 34.81454 ],\n",
       "       [34.222675, 37.719517, 36.16188 , 37.08753 , 36.953686, 34.81454 ],\n",
       "       [34.222675, 37.719517, 36.16188 , 37.08753 , 36.953686, 34.81454 ],\n",
       "       [34.222675, 37.719517, 36.16188 , 37.08753 , 36.953686, 34.81454 ],\n",
       "       [34.222675, 37.719517, 36.16188 , 37.08753 , 36.953686, 34.81454 ],\n",
       "       [34.222675, 37.719517, 36.16188 , 37.08753 , 36.953686, 34.81454 ],\n",
       "       [34.222675, 37.719517, 36.16188 , 37.08753 , 36.953686, 34.81454 ],\n",
       "       [34.222675, 37.719517, 36.16188 , 37.08753 , 36.953686, 34.81454 ],\n",
       "       [34.222675, 37.719517, 36.16188 , 37.08753 , 36.953686, 34.81454 ],\n",
       "       [34.222675, 37.719517, 36.16188 , 37.08753 , 36.953686, 34.81454 ],\n",
       "       [34.222675, 37.719517, 36.16188 , 37.08753 , 36.953686, 34.81454 ],\n",
       "       [34.222675, 37.719517, 36.16188 , 37.08753 , 36.953686, 34.81454 ],\n",
       "       [34.222675, 37.719517, 36.16188 , 37.08753 , 36.953686, 34.81454 ],\n",
       "       [34.222675, 37.719517, 36.16188 , 37.08753 , 36.953686, 34.81454 ],\n",
       "       [34.222675, 37.719517, 36.16188 , 37.08753 , 36.953686, 34.81454 ],\n",
       "       [34.222675, 37.719517, 36.16188 , 37.08753 , 36.953686, 34.81454 ],\n",
       "       [34.222675, 37.719517, 36.16188 , 37.08753 , 36.953686, 34.81454 ],\n",
       "       [34.222675, 37.719517, 36.16188 , 37.08753 , 36.953686, 34.81454 ],\n",
       "       [34.222675, 37.719517, 36.16188 , 37.08753 , 36.953686, 34.81454 ],\n",
       "       [34.222675, 37.719517, 36.16188 , 37.08753 , 36.953686, 34.81454 ],\n",
       "       [34.222675, 37.719517, 36.16188 , 37.08753 , 36.953686, 34.81454 ],\n",
       "       [34.222675, 37.719517, 36.16188 , 37.08753 , 36.953686, 34.81454 ],\n",
       "       [34.222675, 37.719517, 36.16188 , 37.08753 , 36.953686, 34.81454 ],\n",
       "       [34.222675, 37.719517, 36.16188 , 37.08753 , 36.953686, 34.81454 ],\n",
       "       [34.222675, 37.719517, 36.16188 , 37.08753 , 36.953686, 34.81454 ],\n",
       "       [34.222675, 37.719517, 36.16188 , 37.08753 , 36.953686, 34.81454 ],\n",
       "       [34.222675, 37.719517, 36.16188 , 37.08753 , 36.953686, 34.81454 ],\n",
       "       [34.222675, 37.719517, 36.16188 , 37.08753 , 36.953686, 34.81454 ],\n",
       "       [34.222675, 37.719517, 36.16188 , 37.08753 , 36.953686, 34.81454 ],\n",
       "       [34.222675, 37.719517, 36.16188 , 37.08753 , 36.953686, 34.81454 ],\n",
       "       [34.222675, 37.719517, 36.16188 , 37.08753 , 36.953686, 34.81454 ],\n",
       "       [34.222675, 37.719517, 36.16188 , 37.08753 , 36.953686, 34.81454 ],\n",
       "       [34.222675, 37.719517, 36.16188 , 37.08753 , 36.953686, 34.81454 ],\n",
       "       [34.222675, 37.719517, 36.16188 , 37.08753 , 36.953686, 34.81454 ],\n",
       "       [34.222675, 37.719517, 36.16188 , 37.08753 , 36.953686, 34.81454 ],\n",
       "       [34.222675, 37.719517, 36.16188 , 37.08753 , 36.953686, 34.81454 ],\n",
       "       [34.222675, 37.719517, 36.16188 , 37.08753 , 36.953682, 34.81454 ],\n",
       "       [34.222675, 37.719517, 36.16188 , 37.08753 , 36.953682, 34.81454 ]],\n",
       "      dtype=float32)"
      ]
     },
     "execution_count": 198,
     "metadata": {},
     "output_type": "execute_result"
    }
   ],
   "source": [
    "train_predict"
   ]
  },
  {
   "cell_type": "code",
   "execution_count": 199,
   "metadata": {},
   "outputs": [],
   "source": [
    "from sklearn.metrics import mean_squared_error\n",
    "from sklearn.metrics import mean_absolute_error"
   ]
  },
  {
   "cell_type": "code",
   "execution_count": 200,
   "metadata": {},
   "outputs": [
    {
     "name": "stdout",
     "output_type": "stream",
     "text": [
      "Train Mean Absolute Error: 13675658.459142858\n",
      "Train Root Mean Squared Error: 14003821.536967825\n"
     ]
    }
   ],
   "source": [
    "print('Train Mean Absolute Error:', mean_absolute_error(y[:,0], train_predict[:,0]))\n",
    "print('Train Root Mean Squared Error:',np.sqrt(mean_squared_error(y[:,0], train_predict[:,0])))"
   ]
  },
  {
   "cell_type": "code",
   "execution_count": null,
   "metadata": {},
   "outputs": [],
   "source": []
  }
 ],
 "metadata": {
  "kernelspec": {
   "display_name": "Python 3 (ipykernel)",
   "language": "python",
   "name": "python3"
  },
  "language_info": {
   "codemirror_mode": {
    "name": "ipython",
    "version": 3
   },
   "file_extension": ".py",
   "mimetype": "text/x-python",
   "name": "python",
   "nbconvert_exporter": "python",
   "pygments_lexer": "ipython3",
   "version": "3.9.18"
  }
 },
 "nbformat": 4,
 "nbformat_minor": 4
}
